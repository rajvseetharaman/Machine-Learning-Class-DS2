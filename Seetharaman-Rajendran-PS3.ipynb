{
 "cells": [
  {
   "cell_type": "markdown",
   "metadata": {},
   "source": [
    "# Problem Set 3, due February 5 at 5:30 pm\n",
    "\n",
    "###Before You Start\n",
    "\n",
    "Make sure the following libraries load correctly (hit Ctrl-Enter). Note that while you are loading several powerful libraries, including machine learning libraries, the goal of this problem set is to implement several algorithms from scratch. In particular, you should *not* be using any built-in libraries for nearest neighbors, distance metrics, or cross-validation -- your mission is to write those algorithms in Python! Parts 1 and 2 will be relatively easy; Part 3 will take more time.\n",
    "\n",
    "*Also note:* For this assignment we are requiring you to use base **matplotlib** - no more Seaborn or other packages. This will help you become familiar with techniques for maintaining fine-grained control over your data visualizations. It will also help our graders, who spent countless hours trying to make various versions import for grading."
   ]
  },
  {
   "cell_type": "code",
   "execution_count": 50,
   "metadata": {
    "collapsed": true
   },
   "outputs": [],
   "source": [
    "import IPython\n",
    "import numpy as np\n",
    "import scipy as sp\n",
    "import pandas as pd\n",
    "import matplotlib\n",
    "import sklearn"
   ]
  },
  {
   "cell_type": "markdown",
   "metadata": {},
   "source": [
    "---\n",
    "\n",
    "## Introduction to the assignment\n",
    "\n",
    "For this assignment, you will be using the Boston Housing Prices Data Set.  This used to be housed by [UCI Machine Learning Repository](http://archive.ics.uci.edu/ml/datasets/Housing), but it is not housed there any more. You can read about it at [Kaggle](https://www.kaggle.com/vikrishnan/boston-house-prices) and at the [University of Toronto](https://www.cs.toronto.edu/~delve/data/boston/bostonDetail.html). Please read about the dataset carefully before continuing.  Use the following commands to load the dataset:\n"
   ]
  },
  {
   "cell_type": "code",
   "execution_count": 51,
   "metadata": {
    "collapsed": true
   },
   "outputs": [],
   "source": [
    "from sklearn.datasets import load_boston\n",
    "#loading the boston dataset\n",
    "bdata = load_boston()"
   ]
  },
  {
   "cell_type": "markdown",
   "metadata": {},
   "source": [
    "The following commands will provide some basic information about the shape of the data:"
   ]
  },
  {
   "cell_type": "code",
   "execution_count": 52,
   "metadata": {},
   "outputs": [
    {
     "name": "stdout",
     "output_type": "stream",
     "text": [
      "dict_keys(['data', 'target', 'feature_names', 'DESCR'])\n",
      "['CRIM' 'ZN' 'INDUS' 'CHAS' 'NOX' 'RM' 'AGE' 'DIS' 'RAD' 'TAX' 'PTRATIO'\n",
      " 'B' 'LSTAT']\n",
      "(506, 13)\n",
      "(506,)\n",
      "Boston House Prices dataset\n",
      "===========================\n",
      "\n",
      "Notes\n",
      "------\n",
      "Data Set Characteristics:  \n",
      "\n",
      "    :Number of Instances: 506 \n",
      "\n",
      "    :Number of Attributes: 13 numeric/categorical predictive\n",
      "    \n",
      "    :Median Value (attribute 14) is usually the target\n",
      "\n",
      "    :Attribute Information (in order):\n",
      "        - CRIM     per capita crime rate by town\n",
      "        - ZN       proportion of residential land zoned for lots over 25,000 sq.ft.\n",
      "        - INDUS    proportion of non-retail business acres per town\n",
      "        - CHAS     Charles River dummy variable (= 1 if tract bounds river; 0 otherwise)\n",
      "        - NOX      nitric oxides concentration (parts per 10 million)\n",
      "        - RM       average number of rooms per dwelling\n",
      "        - AGE      proportion of owner-occupied units built prior to 1940\n",
      "        - DIS      weighted distances to five Boston employment centres\n",
      "        - RAD      index of accessibility to radial highways\n",
      "        - TAX      full-value property-tax rate per $10,000\n",
      "        - PTRATIO  pupil-teacher ratio by town\n",
      "        - B        1000(Bk - 0.63)^2 where Bk is the proportion of blacks by town\n",
      "        - LSTAT    % lower status of the population\n",
      "        - MEDV     Median value of owner-occupied homes in $1000's\n",
      "\n",
      "    :Missing Attribute Values: None\n",
      "\n",
      "    :Creator: Harrison, D. and Rubinfeld, D.L.\n",
      "\n",
      "This is a copy of UCI ML housing dataset.\n",
      "http://archive.ics.uci.edu/ml/datasets/Housing\n",
      "\n",
      "\n",
      "This dataset was taken from the StatLib library which is maintained at Carnegie Mellon University.\n",
      "\n",
      "The Boston house-price data of Harrison, D. and Rubinfeld, D.L. 'Hedonic\n",
      "prices and the demand for clean air', J. Environ. Economics & Management,\n",
      "vol.5, 81-102, 1978.   Used in Belsley, Kuh & Welsch, 'Regression diagnostics\n",
      "...', Wiley, 1980.   N.B. Various transformations are used in the table on\n",
      "pages 244-261 of the latter.\n",
      "\n",
      "The Boston house-price data has been used in many machine learning papers that address regression\n",
      "problems.   \n",
      "     \n",
      "**References**\n",
      "\n",
      "   - Belsley, Kuh & Welsch, 'Regression diagnostics: Identifying Influential Data and Sources of Collinearity', Wiley, 1980. 244-261.\n",
      "   - Quinlan,R. (1993). Combining Instance-Based and Model-Based Learning. In Proceedings on the Tenth International Conference of Machine Learning, 236-243, University of Massachusetts, Amherst. Morgan Kaufmann.\n",
      "   - many more! (see http://archive.ics.uci.edu/ml/datasets/Housing)\n",
      "\n"
     ]
    }
   ],
   "source": [
    "#summarizing and examining the data\n",
    "print(bdata.keys())\n",
    "print(bdata.feature_names)\n",
    "print(bdata.data.shape)\n",
    "print(bdata.target.shape)\n",
    "#print(bdata.DESCR)\n"
   ]
  },
  {
   "cell_type": "markdown",
   "metadata": {},
   "source": [
    "---\n",
    "\n",
    "##Part 1: Descriptive analysis\n",
    "\n",
    "Before beginning the \"real\" work, dig into the data a bit do see what you're dealing with.  If you feel that you are still in the beginning stages of analyzing data in Python, no problem. That is understandable. Just make sure to read some of the online resources like [this one](https://github.com/jrjohansson/scientific-python-lectures).\n",
    "\n",
    "###1.1: Histogram of housing prices\n",
    "\n",
    "Below you will find some very basic code to make a very basic histogram of median housing prices (the \"target\" variable) for your dataset.  Your first task is to make this graph look pretty by doing the following:\n",
    "\n",
    "1. Add appropriate labels to the x and y axes, make sure to include units\n",
    "2. Change the bin width on the histogram to be $1000\n",
    "3. Remove the axes on the top and right side of the plot window\n",
    "4. Change the color of the bars to be green, and remove the black borders from the bars\n"
   ]
  },
  {
   "cell_type": "code",
   "execution_count": 188,
   "metadata": {},
   "outputs": [
    {
     "data": {
      "text/plain": [
       "Text(0.5,1,'Histogram of Median value of Boston house prices')"
      ]
     },
     "execution_count": 188,
     "metadata": {},
     "output_type": "execute_result"
    },
    {
     "data": {
      "image/png": "[encoded data removed]",
      "text/plain": [
       "<matplotlib.figure.Figure at 0x29ea3c85240>"
      ]
     },
     "metadata": {},
     "output_type": "display_data"
    }
   ],
   "source": [
    "# prepare your jupyter notebook to work with matplotlib and import the library to something convenient\n",
    "%matplotlib inline  \n",
    "import matplotlib.pyplot as plt  \n",
    "#set figure size\n",
    "plt.figure(figsize=(16,9))\n",
    "ax = plt.subplot(111)\n",
    "ax.spines['right'].set_visible(False)\n",
    "ax.spines['top'].set_visible(False)\n",
    "# plot the histogram\n",
    "plt.hist(bdata.target,color='green',bins=np.arange(min(bdata.target), max(bdata.target) + 1, 1))\n",
    "plt.xlabel(\"Median house price ($)\")\n",
    "plt.ylabel(\"Count of houses\")\n",
    "plt.title('Histogram of Median value of Boston house prices')"
   ]
  },
  {
   "cell_type": "markdown",
   "metadata": {},
   "source": [
    "###1.2: Scatter plot of housing prices and crime\n",
    "\n",
    "Use matplotlib to create a scatter plot that shows the relationship between the median value of the home (y-axis) and the per-capita crime rate (x-axis).  Properly label your axes, and make sure that your graphic looks polished and professional.\n"
   ]
  },
  {
   "cell_type": "code",
   "execution_count": 189,
   "metadata": {},
   "outputs": [
    {
     "data": {
      "image/png": "[encoded data removed]",
      "text/plain": [
       "<matplotlib.figure.Figure at 0x29ea4e9f320>"
      ]
     },
     "metadata": {},
     "output_type": "display_data"
    }
   ],
   "source": [
    "#set figure size\n",
    "plt.figure(figsize=(16,9))\n",
    "ax = plt.subplot(111)\n",
    "ax.spines['right'].set_visible(False)\n",
    "ax.spines['top'].set_visible(False)\n",
    "#create scatter plot\n",
    "plt.scatter(x=bdata.data[:,0],y=bdata.target)\n",
    "plt.xlabel('Per Capita Crime Rate')\n",
    "plt.ylabel('Median Value of Home (In $)')\n",
    "plt.title('Median value of house prices v/s crime rate')\n",
    "plt.grid(True)"
   ]
  },
  {
   "cell_type": "markdown",
   "metadata": {},
   "source": [
    "###1.3 Create your own (creative and effective) visualization\n",
    "\n",
    "Use another type of graph or chart to illustrate an interesting pattern in the data.  Be creative in your visualization, and make sure to produce a \"publication-quality\" graph.  Points will be given for useful and creative graphs; points will be deducted for confusing issues like unlabeled axes.  If you're new to data visualization, [this guide](http://pubs.aeaweb.org/doi/pdfplus/10.1257/jep.28.1.209) is a good place to start."
   ]
  },
  {
   "cell_type": "markdown",
   "metadata": {},
   "source": [
    "Ans. I am trying to visualize the relationship between median value of house prices in Boston and percent lower status of the population. The data seems to show that the variables might have a negative correlation i.e that is places with greater proportion of lower staus of the population have lower median value of homes. But this relationship may not necessarily be causal. I have used the color blue to mark out data points in the set which have rooms>=6. The data indicates that the high status population areas seems to have a greater number of rooms in the house. This might indicate that the population which belows to the lower status might be living in houses with smaller number of rooms, leading to lower median house prices."
   ]
  },
  {
   "cell_type": "code",
   "execution_count": 191,
   "metadata": {},
   "outputs": [
    {
     "data": {
      "image/png": "[encoded data removed]",
      "text/plain": [
       "<matplotlib.figure.Figure at 0x29ea3b61898>"
      ]
     },
     "metadata": {},
     "output_type": "display_data"
    }
   ],
   "source": [
    "#set figure size\n",
    "plt.figure(figsize=(16,9))\n",
    "colr=['red' if i<=6 else 'blue' for i in bdata.data[:,5]]\n",
    "#create scatter plot\n",
    "plt.scatter(x=bdata.data[:,12],y=bdata.target,c=colr,label='Number of rooms>=6')\n",
    "plt.xlabel('Percent lower status of population')\n",
    "plt.ylabel('Median Value of Home (In $)')\n",
    "plt.title('Median value of house prices v/s crime rate')\n",
    "plt.legend()\n",
    "plt.grid(True)"
   ]
  },
  {
   "cell_type": "markdown",
   "metadata": {},
   "source": [
    "---\n",
    "\n",
    "##Part 2: Experimental Setup\n",
    "\n",
    "The goal of the next few sections is to design an experiment to predict the median home value for an instance in the data.\n",
    "\n",
    "###2.1 Begin by writing a function to compute the Root Mean Squared Error for a list of numbers\n",
    "\n",
    "You can find the sqrt function in the Numpy package. Furthermore the details of RMSE can be found on [Wikipedia](http://en.wikipedia.org/wiki/Root-mean-square_deviation)\n",
    "\n"
   ]
  },
  {
   "cell_type": "code",
   "execution_count": 192,
   "metadata": {},
   "outputs": [
    {
     "name": "stdout",
     "output_type": "stream",
     "text": [
      "2.08166599947\n"
     ]
    }
   ],
   "source": [
    "\"\"\"\n",
    "Function\n",
    "--------\n",
    "compute_rmse\n",
    "\n",
    "Given two arrays, one of actual values and one of predicted values,\n",
    "compute the Roote Mean Squared Error\n",
    "\n",
    "Parameters\n",
    "----------\n",
    "predictions : array\n",
    "    Array of numerical values corresponding to predictions for each of the N observations\n",
    "\n",
    "yvalues : array\n",
    "    Array of numerical values corresponding to the actual values for each of the N observations\n",
    "\n",
    "Returns\n",
    "-------\n",
    "rmse : int\n",
    "    Root Mean Squared Error of the prediction\n",
    "\n",
    "Example\n",
    "-------\n",
    ">>> print compute_rmse((2,2,3),(0,2,6)\n",
    "2.16\n",
    "\"\"\"\n",
    "def compute_rmse(predictions, yvalues):\n",
    "    #find the difference between predictions and actual y values\n",
    "    residuals=[predictions[i]-yvalues[i] for i in range(len(predictions))]\n",
    "    #compute rmse\n",
    "    rmse=np.sqrt(np.sum([x**2 for x in residuals])/len(residuals))\n",
    "    return rmse\n",
    "print(compute_rmse((2,2,3),(0,2,6)))"
   ]
  },
  {
   "cell_type": "code",
   "execution_count": 193,
   "metadata": {},
   "outputs": [
    {
     "data": {
      "text/html": [
       "<div>\n",
       "<style>\n",
       "    .dataframe thead tr:only-child th {\n",
       "        text-align: right;\n",
       "    }\n",
       "\n",
       "    .dataframe thead th {\n",
       "        text-align: left;\n",
       "    }\n",
       "\n",
       "    .dataframe tbody tr th {\n",
       "        vertical-align: top;\n",
       "    }\n",
       "</style>\n",
       "<table border=\"1\" class=\"dataframe\">\n",
       "  <thead>\n",
       "    <tr style=\"text-align: right;\">\n",
       "      <th></th>\n",
       "      <th>CRIM</th>\n",
       "      <th>ZN</th>\n",
       "      <th>INDUS</th>\n",
       "      <th>CHAS</th>\n",
       "      <th>NOX</th>\n",
       "      <th>RM</th>\n",
       "      <th>AGE</th>\n",
       "      <th>DIS</th>\n",
       "      <th>RAD</th>\n",
       "      <th>TAX</th>\n",
       "      <th>PTRATIO</th>\n",
       "      <th>B</th>\n",
       "      <th>LSTAT</th>\n",
       "      <th>target</th>\n",
       "    </tr>\n",
       "  </thead>\n",
       "  <tbody>\n",
       "    <tr>\n",
       "      <th>0</th>\n",
       "      <td>0.00632</td>\n",
       "      <td>18.0</td>\n",
       "      <td>2.31</td>\n",
       "      <td>0.0</td>\n",
       "      <td>0.538</td>\n",
       "      <td>6.575</td>\n",
       "      <td>65.2</td>\n",
       "      <td>4.0900</td>\n",
       "      <td>1.0</td>\n",
       "      <td>296.0</td>\n",
       "      <td>15.3</td>\n",
       "      <td>396.90</td>\n",
       "      <td>4.98</td>\n",
       "      <td>24.0</td>\n",
       "    </tr>\n",
       "    <tr>\n",
       "      <th>1</th>\n",
       "      <td>0.02731</td>\n",
       "      <td>0.0</td>\n",
       "      <td>7.07</td>\n",
       "      <td>0.0</td>\n",
       "      <td>0.469</td>\n",
       "      <td>6.421</td>\n",
       "      <td>78.9</td>\n",
       "      <td>4.9671</td>\n",
       "      <td>2.0</td>\n",
       "      <td>242.0</td>\n",
       "      <td>17.8</td>\n",
       "      <td>396.90</td>\n",
       "      <td>9.14</td>\n",
       "      <td>21.6</td>\n",
       "    </tr>\n",
       "    <tr>\n",
       "      <th>2</th>\n",
       "      <td>0.02729</td>\n",
       "      <td>0.0</td>\n",
       "      <td>7.07</td>\n",
       "      <td>0.0</td>\n",
       "      <td>0.469</td>\n",
       "      <td>7.185</td>\n",
       "      <td>61.1</td>\n",
       "      <td>4.9671</td>\n",
       "      <td>2.0</td>\n",
       "      <td>242.0</td>\n",
       "      <td>17.8</td>\n",
       "      <td>392.83</td>\n",
       "      <td>4.03</td>\n",
       "      <td>34.7</td>\n",
       "    </tr>\n",
       "    <tr>\n",
       "      <th>3</th>\n",
       "      <td>0.03237</td>\n",
       "      <td>0.0</td>\n",
       "      <td>2.18</td>\n",
       "      <td>0.0</td>\n",
       "      <td>0.458</td>\n",
       "      <td>6.998</td>\n",
       "      <td>45.8</td>\n",
       "      <td>6.0622</td>\n",
       "      <td>3.0</td>\n",
       "      <td>222.0</td>\n",
       "      <td>18.7</td>\n",
       "      <td>394.63</td>\n",
       "      <td>2.94</td>\n",
       "      <td>33.4</td>\n",
       "    </tr>\n",
       "    <tr>\n",
       "      <th>4</th>\n",
       "      <td>0.06905</td>\n",
       "      <td>0.0</td>\n",
       "      <td>2.18</td>\n",
       "      <td>0.0</td>\n",
       "      <td>0.458</td>\n",
       "      <td>7.147</td>\n",
       "      <td>54.2</td>\n",
       "      <td>6.0622</td>\n",
       "      <td>3.0</td>\n",
       "      <td>222.0</td>\n",
       "      <td>18.7</td>\n",
       "      <td>396.90</td>\n",
       "      <td>5.33</td>\n",
       "      <td>36.2</td>\n",
       "    </tr>\n",
       "  </tbody>\n",
       "</table>\n",
       "</div>"
      ],
      "text/plain": [
       "      CRIM    ZN  INDUS  CHAS    NOX     RM   AGE     DIS  RAD    TAX  \\\n",
       "0  0.00632  18.0   2.31   0.0  0.538  6.575  65.2  4.0900  1.0  296.0   \n",
       "1  0.02731   0.0   7.07   0.0  0.469  6.421  78.9  4.9671  2.0  242.0   \n",
       "2  0.02729   0.0   7.07   0.0  0.469  7.185  61.1  4.9671  2.0  242.0   \n",
       "3  0.03237   0.0   2.18   0.0  0.458  6.998  45.8  6.0622  3.0  222.0   \n",
       "4  0.06905   0.0   2.18   0.0  0.458  7.147  54.2  6.0622  3.0  222.0   \n",
       "\n",
       "   PTRATIO       B  LSTAT  target  \n",
       "0     15.3  396.90   4.98    24.0  \n",
       "1     17.8  396.90   9.14    21.6  \n",
       "2     17.8  392.83   4.03    34.7  \n",
       "3     18.7  394.63   2.94    33.4  \n",
       "4     18.7  396.90   5.33    36.2  "
      ]
     },
     "execution_count": 193,
     "metadata": {},
     "output_type": "execute_result"
    }
   ],
   "source": [
    "#pushing the boston dataset into a dataframe for convenience of calculations\n",
    "df_boston = pd.DataFrame(bdata.data,columns=bdata.feature_names)\n",
    "df_boston['target'] = pd.Series(bdata.target)\n",
    "df_boston.head()"
   ]
  },
  {
   "cell_type": "markdown",
   "metadata": {},
   "source": [
    "###2.2 Divide your data into training and testing datasets\n",
    "\n",
    "Randomly select 66% of the data and put this in a training dataset (call this \"bdata_train\"), and place the remaining 34% in a testing dataset (call this \"bdata_test\")\n"
   ]
  },
  {
   "cell_type": "code",
   "execution_count": 195,
   "metadata": {},
   "outputs": [
    {
     "name": "stdout",
     "output_type": "stream",
     "text": [
      "333\n",
      "173\n"
     ]
    }
   ],
   "source": [
    "#set seed\n",
    "np.random.seed(seed=13579)\n",
    "#create list for shuffling data\n",
    "lst=np.arange(len(df_boston))\n",
    "#shuffle list\n",
    "np.random.shuffle(lst)\n",
    "#split data into train and test\n",
    "bdata_train = df_boston.loc[lst[:int(0.66*504)+1,]]\n",
    "bdata_test = df_boston.loc[lst[int(0.66*504)+1:,]]\n",
    "print(len(bdata_train))\n",
    "print(len(bdata_test))"
   ]
  },
  {
   "cell_type": "markdown",
   "metadata": {},
   "source": [
    "###2.3 Use a very bad baseline for prediction, and compute RMSE\n",
    "\n",
    "Create a model that predicts, for every observation x_i, that the median home value is the average (mean) of the median values for all instances in the training set.  Compute the RMSE on the training set.  Now compute the RMSE on the test data set (but use the model you trained on the training set!).  How does RMSE compare for training vs. testing datasets? Is this what you expected, and why?"
   ]
  },
  {
   "cell_type": "code",
   "execution_count": 197,
   "metadata": {},
   "outputs": [
    {
     "name": "stdout",
     "output_type": "stream",
     "text": [
      "11.637896479\n",
      "16.1360024957\n"
     ]
    }
   ],
   "source": [
    "#baseline model that predicts, for every observation x_i the median home value is the average of the median values for all instances in the training \n",
    "def baseline_model(x_i):\n",
    "    #return mean of all median values of homes in training set \n",
    "    return np.mean(bdata_train.target)\n",
    "\n",
    "#find predictions corresponding to training set\n",
    "train_predictions=[baseline_model(xi) for xi in bdata_train]\n",
    "#compute training rmse\n",
    "rmse_train=compute_rmse(train_predictions, list(bdata_train.target))\n",
    "#find predictions corresponding to test set\n",
    "test_predictions=[baseline_model(xi) for xi in bdata_test]\n",
    "#compute test rmse\n",
    "rmse_test=compute_rmse(test_predictions, list(bdata_test.target))\n",
    "print(rmse_train)\n",
    "print(rmse_test)"
   ]
  },
  {
   "cell_type": "markdown",
   "metadata": {},
   "source": [
    "Ans. The RMSE for the testing set (16.1) is much higher than that on the training set(11.6). This was expected because apart from this being a very bad baseline model which returns the mean of the set for each input, this model returns the mean of the median values of the training set for every input of the test set as well. As the model has not been trained on this test set, it is highly likely that it will perform worse on this set."
   ]
  },
  {
   "cell_type": "markdown",
   "metadata": {},
   "source": [
    "---\n",
    "\n",
    "##Part 3: Nearest Neighbors\n"
   ]
  },
  {
   "cell_type": "markdown",
   "metadata": {},
   "source": [
    "###3.1 Nearest Neighbors: Distance function\n",
    "Let's try and build a machine learning algorithm to beat the \"Average Value\" baseline that you computed above.  Soon you will implement the Nearest Neighbor algorithm, but first you need to create a distance metric to measure the distance (and similarity) between two instances.  Write a generic function to compute the L-Norm distance (called the [*p*-norm](http://en.wikipedia.org/wiki/Norm_(mathematics) distance on Wikipedia). Verify that your function works by computing the Euclidean distance between the points (3,4) and (6,8)."
   ]
  },
  {
   "cell_type": "code",
   "execution_count": 198,
   "metadata": {},
   "outputs": [
    {
     "name": "stdout",
     "output_type": "stream",
     "text": [
      "5.0\n"
     ]
    }
   ],
   "source": [
    "\"\"\"\n",
    "Function\n",
    "--------\n",
    "distance\n",
    "\n",
    "Given two instances and a value for L, return the L-Norm distance between them\n",
    "\n",
    "Parameters\n",
    "----------\n",
    "x1, x2 : array\n",
    "    Array of numerical values corresponding to predictions for each of the N observations\n",
    "\n",
    "L: int\n",
    "    Value of L to use in computing distances\n",
    "\n",
    "Returns\n",
    "-------\n",
    "dist : int\n",
    "    The L-norm distance between instances\n",
    "\n",
    "Example\n",
    "-------\n",
    ">>> print distance((3,4),(6,8),2)\n",
    "7\n",
    "\n",
    "\"\"\"\n",
    "#Given two instances and a value for L, this function returns the L-Norm distance between them\n",
    "def distance(x1, x2, L):\n",
    "    #check if length of the instances are the same, if not, print error\n",
    "    if len(x1)!=len(x2):\n",
    "        print('length of vectors do not match')\n",
    "    else:\n",
    "       #compute the l norm distance between vectors \n",
    "       abs_diff_vector_L = [np.absolute(x1[i]-x2[i])**L for i in range(len(x1))]\n",
    "       dist=np.power(np.sum(abs_diff_vector_L),(1/L))     \n",
    "    return dist\n",
    "print(distance((3,4),(6,8),2))"
   ]
  },
  {
   "cell_type": "markdown",
   "metadata": {},
   "source": [
    "###3.2 Basic Nearest Neighbor algorithm\n",
    "\n",
    "Now things get fun.  Your task is to implement a basic nearest neighbor algorithm from scratch.  Your simple model will use two input features (CRIM and RM) and a single output (MEDV).  In other words, you are modelling the relationship between median home value and crime rates and house size.\n",
    "\n",
    "Use your training data (bdata_train) to \"fit\" your model, although as you know, with Nearest Neighbors there is no real training, you just need to keep your training data in memory.  Write a function that predicts, for each instance in the testing data (bdata_test), the median home value using the nearest neighbor algorithm we discussed in class.  Since this is a small dataset, you can simply compare your test instance to every instance in the training set, and return the MEDV value of the closest training instance.  Have your function take L as an input, where L is passed to the distance function.\n",
    "\n",
    "Compute the RMSE for the Nearest Neighbor predictions on the test set, using the Euclidean distance.  Report an estimate of the total time taken by your code to predict the nearest neighbors for all the values in the test data set."
   ]
  },
  {
   "cell_type": "code",
   "execution_count": 202,
   "metadata": {},
   "outputs": [
    {
     "name": "stdout",
     "output_type": "stream",
     "text": [
      "Time taken:  90.78  seconds\n"
     ]
    },
    {
     "data": {
      "text/plain": [
       "7.4500998945857324"
      ]
     },
     "execution_count": 202,
     "metadata": {},
     "output_type": "execute_result"
    }
   ],
   "source": [
    "\n",
    "\"\"\"\n",
    "Function\n",
    "--------\n",
    "nneighbor\n",
    "\n",
    "Given training data, test data, names of input features, and L runs the nearest neighbor algorithm on the train and test sets,\n",
    "computes the predictions for the test set, and computes and returns the rmse value\n",
    "\n",
    "Parameters\n",
    "----------\n",
    "bdata_train : dataframe\n",
    "    training dataset\n",
    "\n",
    "bdata_test : dataframe\n",
    "    test dataset\n",
    "\n",
    "ip_features : list\n",
    "    list of features to use for computing nearest neighbors\n",
    "\n",
    "L: int\n",
    "    Value of L to use in computing distances\n",
    "    \n",
    "N : int \n",
    "    Number of neighbors to use. Default 1 in this case\n",
    "\n",
    "Returns\n",
    "-------\n",
    "rmse : float\n",
    "    The rmse of the test set predictions\n",
    "\n",
    "Example\n",
    "-------\n",
    ">>> nneighbor(bdata_train,bdata_test,['CRIM','RM'], 2)\n",
    "7.4500998945857324\n",
    "\"\"\"\n",
    "import time\n",
    "def nneighbor(bdata_train,bdata_test,ip_features, L,N=1):\n",
    "    start_time = time.time()\n",
    "    #create empty list of median value predictions\n",
    "    medv=[]\n",
    "    #compute distances for every point in test set to every point in training\n",
    "    for i,x in bdata_test.iterrows():\n",
    "        #lists to store distances and corresponding median values for each training point\n",
    "        dist=[]\n",
    "        medianval=[]\n",
    "        #iterate through each training point to compute distance\n",
    "        for  j,y in bdata_train.iterrows():\n",
    "            #compute distance between training and test point, store the distance and corresponding median price value\n",
    "            curr_dist=distance(x[ip_features],y[ip_features],L)\n",
    "            medianval.append(y[['target']])\n",
    "            dist.append(curr_dist)\n",
    "        #print('iteration ended')\n",
    "        #parallel sort the distance and median value lists to get median value corresponding to closest point to test point\n",
    "        dist1, medianval = (list(x) for x in zip(*sorted(zip(dist,medianval), key=lambda pair: pair[0])))\n",
    "        #append the predicted median house price value to the median prices list\n",
    "        medv.append(medianval[0].target) \n",
    "    #print(medv)    \n",
    "    #compute test rmse\n",
    "    rmse=compute_rmse(medv,list(bdata_test.target))\n",
    "    print(\"Time taken: \",str(round(time.time() - start_time,2)),\" seconds\")\n",
    "    return rmse\n",
    "\n",
    "#your additional code here\n",
    "nneighbor(bdata_train,bdata_test,['CRIM','RM'], 2)"
   ]
  },
  {
   "cell_type": "markdown",
   "metadata": {},
   "source": [
    "###3.3 Results and Normalization\n",
    "\n",
    "If you were being astute, you would have noticed that we never normalized our features -- a big no-no with Nearest Neighbor algorithms.  Write a generic normalization function that takes as input an array of values for a given feature, and returns the normalized array (subtract the mean and divide by the standard deviation).\n",
    "\n",
    "Re-run the Nearest Neighbor algorithm on the normalized dataset (still just using CRIM and RM as input), and compare the RMSE from this method with your previous RMSE evaluations.\n",
    "\n",
    "*NOTE*: To normalize properly, best practice is to compute the mean and standard deviation on the training set, and use these values to normalize the testing dataset. However, for this problem set, it is okay if you separately normalize each dataset using the respective mean and standard deviation."
   ]
  },
  {
   "cell_type": "code",
   "execution_count": 63,
   "metadata": {},
   "outputs": [
    {
     "name": "stdout",
     "output_type": "stream",
     "text": [
      "Time taken:  65.73  seconds\n"
     ]
    },
    {
     "data": {
      "text/plain": [
       "0.056231562797538541"
      ]
     },
     "execution_count": 63,
     "metadata": {},
     "output_type": "execute_result"
    }
   ],
   "source": [
    "\"\"\"\n",
    "Function\n",
    "--------\n",
    "normalize\n",
    "\n",
    "Given raw data dataframe, normalizes all the columns in the dataframe\n",
    "\n",
    "Parameters\n",
    "----------\n",
    "raw_data : dataframe column\n",
    "    Original data to normalize\n",
    "\n",
    "Returns\n",
    "-------\n",
    "normalized_data : dataframe column\n",
    "    Normalized data\n",
    "\n",
    "Example\n",
    "-------\n",
    ">>> bdata_train1=bdata_train.apply(normalize,axis=1)\n",
    "\"\"\"\n",
    "def normalize(raw_data):\n",
    "    #compute normalized value for each data point in column\n",
    "    normalized_data=[(x-np.mean(raw_data))/np.std(raw_data) for x in raw_data]\n",
    "    return normalized_data\n",
    "\n",
    "#your additional code here\n",
    "#apply normalization function to each column in train and test set\n",
    "bdata_train1=bdata_train.apply(normalize,axis=1)\n",
    "bdata_test1=bdata_test.apply(normalize,axis=1)\n",
    "#run nearest neighbors algorithm on normalized data\n",
    "nneighbor(bdata_train1,bdata_test1,['CRIM','RM'], 2)"
   ]
  },
  {
   "cell_type": "markdown",
   "metadata": {},
   "source": [
    "Ans. The RMSE value computed after normalization is significantly lower as compared to the value before normalization. This is because the nearest neighbors algorithm is affected by features having diffeent scales."
   ]
  },
  {
   "cell_type": "markdown",
   "metadata": {},
   "source": [
    "###3.4 Optimization\n",
    "\n",
    "A lot of the decisions we've made so far have been arbitrary.  Try to increase the performance of your nearest neighbor algorithm by adding features that you think might be relevant, and by using different values of L in the distance function.  Try a model that uses a different set of 2 features, then try at least one model that uses more than 4 features, then try using a different value of L.  If you're having fun, try a few different combinations of features and L!\n",
    "\n",
    "What combination of features and distance function provide the lowest RMSE?  Do your decisions affect the running time of the algorithm?"
   ]
  },
  {
   "cell_type": "code",
   "execution_count": 27,
   "metadata": {},
   "outputs": [
    {
     "name": "stdout",
     "output_type": "stream",
     "text": [
      "Time taken:  90.57  seconds\n"
     ]
    },
    {
     "data": {
      "text/plain": [
       "0.080584463432974651"
      ]
     },
     "execution_count": 27,
     "metadata": {},
     "output_type": "execute_result"
    }
   ],
   "source": [
    "#run nneighbor with Rad, Dis as features and L as 2\n",
    "nneighbor(bdata_train1,bdata_test1,['RAD','DIS'], 2)"
   ]
  },
  {
   "cell_type": "code",
   "execution_count": 28,
   "metadata": {},
   "outputs": [
    {
     "name": "stdout",
     "output_type": "stream",
     "text": [
      "Time taken:  94.92  seconds\n"
     ]
    },
    {
     "data": {
      "text/plain": [
       "0.056194922333493047"
      ]
     },
     "execution_count": 28,
     "metadata": {},
     "output_type": "execute_result"
    }
   ],
   "source": [
    "#run nneighbor with Crim, Rm,Rad, Dis as features and L as 2\n",
    "nneighbor(bdata_train1,bdata_test1,['CRIM','RM','RAD','DIS'], 2)"
   ]
  },
  {
   "cell_type": "code",
   "execution_count": 29,
   "metadata": {},
   "outputs": [
    {
     "name": "stdout",
     "output_type": "stream",
     "text": [
      "Time taken:  96.53  seconds\n"
     ]
    },
    {
     "data": {
      "text/plain": [
       "0.05628867470997418"
      ]
     },
     "execution_count": 29,
     "metadata": {},
     "output_type": "execute_result"
    }
   ],
   "source": [
    "#run nneighbor with Crim, Rm,Rad, Dis as features and L as 1\n",
    "nneighbor(bdata_train1,bdata_test1,['CRIM','RM','RAD','DIS'], 1)"
   ]
  },
  {
   "cell_type": "markdown",
   "metadata": {},
   "source": [
    "Ans. The combination of the features - 'CRIM','RM','RAD','DIS' with L as 2 gave me the lowest RMSE of 0.056194. My observation is that adding more features to the model increases the running time of the algorithm. When i increased my number of features from 2-4, the running time of the algorithm increased by 4-6 seconds. Choice of L also does seem to affect the running time of the algorithm slightly."
   ]
  },
  {
   "cell_type": "markdown",
   "metadata": {},
   "source": [
    "### 3.5 Cross-Validation\n",
    "\n",
    "The more you tinkered with your features and distance function, the higher the risk that you overfit your training data.  To prevent this sort of overfitting, you need to use cross-validation (see K-fold [cross-validation](http://en.wikipedia.org/wiki/Cross-validation_(statistics)).  Here you must implement a simple k-fold cross-validation algorithm yourself.  The function you write here will be used several more times in this problem set, so do your best to write efficient code! (Note that the sklearn package has a built-in [K-fold](http://scikit-learn.org/stable/modules/cross_validation.html#cross-validation) iterator -- you should *not* be invoking that or any related algorithms in this section of the problem set.)\n",
    "\n",
    "Use 10-fold cross-validation and report the average RMSE for Nearest Neighbors using Euclidean distance with CRIM and RM input features, as well as the total running time for the full run of 10 folds.  In other words, randomly divide your dataset into 10 equally-sized samples, and for each of 10 iterations (the \"folds\"), use 9 samples as \"training data\" (even though there is no training in k-NN!), and the remaining 1 sample for testing.  Compute the RMSE of that particular test set, then move on to the next iteration.  Report the average RMSE across the 10 iterations."
   ]
  },
  {
   "cell_type": "code",
   "execution_count": 205,
   "metadata": {},
   "outputs": [
    {
     "name": "stdout",
     "output_type": "stream",
     "text": [
      "Time taken:  6.45  seconds\n",
      "Time taken:  6.52  seconds\n",
      "Time taken:  6.67  seconds\n",
      "Time taken:  7.05  seconds\n",
      "Time taken:  6.86  seconds\n",
      "Time taken:  7.54  seconds\n",
      "Time taken:  6.58  seconds\n",
      "Time taken:  6.52  seconds\n",
      "Time taken:  6.59  seconds\n",
      "Time taken:  6.7  seconds\n",
      "Average RMSE:  0.0758119129952\n"
     ]
    }
   ],
   "source": [
    "\"\"\"\n",
    "Function\n",
    "--------\n",
    "k_fold_cross_val\n",
    "\n",
    "Given training data, number of folds, L, input features list, the nearest neighbors function to use, and number of neighbors,\n",
    "runs k-fold cross validation on the training dataset and returns the avg RMSE.\n",
    "\n",
    "Parameters\n",
    "----------\n",
    "k : int\n",
    "    number of folds\n",
    "\n",
    "bdata_train : dataframe\n",
    "    training dataset\n",
    "\n",
    "ip_features : list\n",
    "    list of features to use for computing nearest neighbors\n",
    "\n",
    "L: int\n",
    "    Value of L to use in computing distances\n",
    "    \n",
    "nnfunction : function\n",
    "    function to use for cross validation (nneighbors or knn)\n",
    "    \n",
    "N : int \n",
    "    Number of neighbors to use. Default 1\n",
    "\n",
    "Returns\n",
    "-------\n",
    "rmse : float\n",
    "    The avg RMSE after cross validation\n",
    "\n",
    "Example\n",
    "-------\n",
    ">>> avg_rmse=k_fold_cross_val(10,bdata_train1,['CRIM','RM'],2,nneighbor)\n",
    ">>> print('Average RMSE: 'avg_rmse)\n",
    "0.0664595023026\n",
    "\"\"\"\n",
    "\n",
    "def k_fold_cross_val(k,bdata_train1,ip_features,L,nnfunction,N=1):\n",
    "    #randomly shuffle training data for cross validaton\n",
    "    bdata_train1= bdata_train1.reindex(np.random.permutation(bdata_train1.index))\n",
    "    #compute partition size\n",
    "    partition_size=int(len(bdata_train)/k)\n",
    "    #empty list for storing rmse values from each iteration\n",
    "    rmse_vals=[]\n",
    "    for i in range(k):\n",
    "        #divide data into partitions i.e train, test for cross validation\n",
    "        cross_valid_train_set=pd.concat([bdata_train1[:k],bdata_train1[partition_size*k:]])\n",
    "        validation_set=bdata_train1[k:partition_size*k]\n",
    "        #run knn/nneighbors function for the cross validation train,test set and get rmse\n",
    "        rmse=nnfunction(cross_valid_train_set,validation_set,ip_features,L,N)\n",
    "        #store rmse\n",
    "        rmse_vals.append(rmse)\n",
    "        #print('iteration ',i+1)\n",
    "    #compute avg rmse resultng from k iterations\n",
    "    avg_rmse=np.mean(rmse_vals)\n",
    "    return avg_rmse\n",
    "avg_rmse=k_fold_cross_val(10,bdata_train1,['CRIM','RM'],2,nneighbor)\n",
    "print('Average RMSE: ',avg_rmse)"
   ]
  },
  {
   "cell_type": "markdown",
   "metadata": {},
   "source": [
    "###3.6 K-Nearest Neighbors Algorithm\n",
    "\n",
    "Implement the K-Nearest Neighbors algorithm.  Using 10-fold cross validation, report the RMSE for K=3 and the running time of the algorithm."
   ]
  },
  {
   "cell_type": "code",
   "execution_count": 207,
   "metadata": {},
   "outputs": [
    {
     "name": "stdout",
     "output_type": "stream",
     "text": [
      "Time taken:  6.67  seconds\n",
      "Time taken:  6.68  seconds\n",
      "Time taken:  6.89  seconds\n",
      "Time taken:  7.14  seconds\n",
      "Time taken:  6.98  seconds\n",
      "Time taken:  6.94  seconds\n",
      "Time taken:  6.98  seconds\n",
      "Time taken:  7.74  seconds\n",
      "Time taken:  7.21  seconds\n",
      "Time taken:  6.5  seconds\n",
      "Running time of Algorithm:  69.76070308685303\n",
      "Average RMSE:  0.0789333616659\n"
     ]
    }
   ],
   "source": [
    "\"\"\"\n",
    "Function\n",
    "--------\n",
    "knn\n",
    "\n",
    "Given training data, test data, names of input features, L, and K runs the K nearest neighbor algorithm on the train and test sets,\n",
    "computes the predictions for the test set, and computes and returns the test rmse value\n",
    "\n",
    "Parameters\n",
    "----------\n",
    "bdata_train : dataframe\n",
    "    training dataset\n",
    "\n",
    "bdata_test : dataframe\n",
    "    test dataset\n",
    "\n",
    "ip_features : list\n",
    "    list of features to use for computing nearest neighbors\n",
    "\n",
    "L: int\n",
    "    Value of L to use in computing distances\n",
    "    \n",
    "K : int \n",
    "    Number of neighbors to use.\n",
    "\n",
    "Returns\n",
    "-------\n",
    "rmse : float\n",
    "    The rmse of the test set predictions\n",
    "\n",
    "Example\n",
    "-------\n",
    ">>> print(knn(bdata_train,bdata_test,['CRIM','RM'], 2,1))\n",
    "7.4500998945857324\n",
    "\"\"\"\n",
    "def knn(bdata_train,bdata_test,ip_features, L, K):\n",
    "    start_time = time.time()\n",
    "    #create list for predicted median price values\n",
    "    medv=[]\n",
    "    #for each data point in test compute distances to each training poing and find k closest points\n",
    "    for i,x in bdata_test.iterrows():\n",
    "        #empty distance and median value lists to store distances between test and each training point\n",
    "        dist=[]\n",
    "        medianval=[]\n",
    "        for  j,y in bdata_train.iterrows():\n",
    "            #compute distance and store median price value for each training point\n",
    "            curr_dist=distance(x[ip_features],y[ip_features],L)\n",
    "            medianval.append(y[['target']])\n",
    "            dist.append(curr_dist)\n",
    "        #print('iteration ended')\n",
    "        #sort median price values of training by distance to test point and compute mean price of k nearest points\n",
    "        dist1, medianval = (list(x) for x in zip(*sorted(zip(dist,medianval), key=lambda pair: pair[0])))\n",
    "        medv.append(np.mean(medianval[0:K])) \n",
    "    #print(medv) \n",
    "    #compute rmse\n",
    "    rmse=compute_rmse(medv,list(bdata_test.target))\n",
    "    print(\"Time taken: \",str(round(time.time() - start_time,2)),\" seconds\")\n",
    "    return rmse\n",
    "\n",
    "#print(knn(bdata_train1,bdata_test1,['RAD','DIS'], 2,3))\n",
    "#run 10 fold cross validation\n",
    "start=time.time()\n",
    "avg_rmse=k_fold_cross_val(10,bdata_train2,['CRIM','RM'],2,knn,3)\n",
    "print('Running time of Algorithm: ',time.time()-start)\n",
    "print('Average RMSE: ',avg_rmse)"
   ]
  },
  {
   "cell_type": "markdown",
   "metadata": {},
   "source": [
    "###3.7 Using cross validation to find K\n",
    "\n",
    "What is the best choice of K?  Compute the RMSE for values of K between 1 and 25 using 10-fold cross-validation.  Use the following features in your model, and don't forget to normalize: CRIM, ZN, RM, AGE, DIS, TAX.  Create a graph that shows how RMSE changes as K increases from 1 to 25.  Label your axes, and summarize what you see.  What do you think is a reasonable choice of K for this model?"
   ]
  },
  {
   "cell_type": "code",
   "execution_count": 78,
   "metadata": {},
   "outputs": [
    {
     "name": "stdout",
     "output_type": "stream",
     "text": [
      "Time taken:  7.54  seconds\n",
      "Time taken:  7.6  seconds\n",
      "Time taken:  7.75  seconds\n",
      "Time taken:  7.51  seconds\n",
      "Time taken:  7.55  seconds\n",
      "Time taken:  7.55  seconds\n",
      "Time taken:  8.09  seconds\n",
      "Time taken:  7.52  seconds\n",
      "Time taken:  7.58  seconds\n",
      "Time taken:  7.49  seconds\n",
      "Time taken:  7.57  seconds\n",
      "Time taken:  7.54  seconds\n",
      "Time taken:  7.61  seconds\n",
      "Time taken:  7.55  seconds\n",
      "Time taken:  7.93  seconds\n",
      "Time taken:  7.95  seconds\n",
      "Time taken:  7.55  seconds\n",
      "Time taken:  7.56  seconds\n",
      "Time taken:  7.57  seconds\n",
      "Time taken:  7.58  seconds\n",
      "Time taken:  7.53  seconds\n",
      "Time taken:  7.58  seconds\n",
      "Time taken:  7.59  seconds\n",
      "Time taken:  8.2  seconds\n",
      "Time taken:  7.56  seconds\n",
      "Time taken:  7.64  seconds\n",
      "Time taken:  7.56  seconds\n",
      "Time taken:  7.61  seconds\n",
      "Time taken:  7.69  seconds\n",
      "Time taken:  7.94  seconds\n",
      "Time taken:  7.9  seconds\n",
      "Time taken:  8.21  seconds\n",
      "Time taken:  7.76  seconds\n",
      "Time taken:  7.63  seconds\n",
      "Time taken:  7.61  seconds\n",
      "Time taken:  7.79  seconds\n",
      "Time taken:  7.61  seconds\n",
      "Time taken:  7.6  seconds\n",
      "Time taken:  7.59  seconds\n",
      "Time taken:  7.61  seconds\n",
      "Time taken:  8.3  seconds\n",
      "Time taken:  7.63  seconds\n",
      "Time taken:  7.61  seconds\n",
      "Time taken:  7.61  seconds\n",
      "Time taken:  7.7  seconds\n",
      "Time taken:  7.62  seconds\n",
      "Time taken:  7.64  seconds\n",
      "Time taken:  7.66  seconds\n",
      "Time taken:  7.85  seconds\n",
      "Time taken:  8.1  seconds\n",
      "Time taken:  7.66  seconds\n",
      "Time taken:  7.71  seconds\n",
      "Time taken:  7.65  seconds\n",
      "Time taken:  7.67  seconds\n",
      "Time taken:  7.65  seconds\n",
      "Time taken:  7.64  seconds\n",
      "Time taken:  7.68  seconds\n",
      "Time taken:  8.06  seconds\n",
      "Time taken:  7.65  seconds\n",
      "Time taken:  7.73  seconds\n",
      "Time taken:  7.66  seconds\n",
      "Time taken:  7.7  seconds\n",
      "Time taken:  7.68  seconds\n",
      "Time taken:  7.69  seconds\n",
      "Time taken:  7.67  seconds\n",
      "Time taken:  7.96  seconds\n",
      "Time taken:  7.98  seconds\n",
      "Time taken:  7.67  seconds\n",
      "Time taken:  7.71  seconds\n",
      "Time taken:  7.68  seconds\n",
      "Time taken:  7.65  seconds\n",
      "Time taken:  7.7  seconds\n",
      "Time taken:  7.68  seconds\n",
      "Time taken:  7.67  seconds\n",
      "Time taken:  8.29  seconds\n",
      "Time taken:  7.8  seconds\n",
      "Time taken:  7.74  seconds\n",
      "Time taken:  7.67  seconds\n",
      "Time taken:  7.7  seconds\n",
      "Time taken:  7.74  seconds\n",
      "Time taken:  7.71  seconds\n",
      "Time taken:  7.75  seconds\n",
      "Time taken:  8.13  seconds\n",
      "Time taken:  7.88  seconds\n",
      "Time taken:  7.66  seconds\n",
      "Time taken:  7.76  seconds\n",
      "Time taken:  7.68  seconds\n",
      "Time taken:  7.73  seconds\n",
      "Time taken:  8.12  seconds\n",
      "Time taken:  7.73  seconds\n",
      "Time taken:  7.9  seconds\n",
      "Time taken:  8.38  seconds\n",
      "Time taken:  7.73  seconds\n",
      "Time taken:  7.74  seconds\n",
      "Time taken:  7.71  seconds\n",
      "Time taken:  7.78  seconds\n",
      "Time taken:  7.73  seconds\n",
      "Time taken:  7.71  seconds\n",
      "Time taken:  7.72  seconds\n",
      "Time taken:  8.38  seconds\n",
      "Time taken:  7.77  seconds\n",
      "Time taken:  7.76  seconds\n",
      "Time taken:  7.76  seconds\n",
      "Time taken:  7.78  seconds\n",
      "Time taken:  7.78  seconds\n",
      "Time taken:  7.8  seconds\n",
      "Time taken:  7.79  seconds\n",
      "Time taken:  8.16  seconds\n",
      "Time taken:  8.02  seconds\n",
      "Time taken:  7.78  seconds\n",
      "Time taken:  7.76  seconds\n",
      "Time taken:  7.76  seconds\n",
      "Time taken:  7.75  seconds\n",
      "Time taken:  7.77  seconds\n",
      "Time taken:  7.82  seconds\n",
      "Time taken:  8.01  seconds\n",
      "Time taken:  8.45  seconds\n",
      "Time taken:  7.85  seconds\n",
      "Time taken:  7.7  seconds\n",
      "Time taken:  7.77  seconds\n",
      "Time taken:  7.78  seconds\n",
      "Time taken:  7.99  seconds\n",
      "Time taken:  7.78  seconds\n",
      "Time taken:  7.82  seconds\n",
      "Time taken:  8.43  seconds\n",
      "Time taken:  7.8  seconds\n",
      "Time taken:  7.8  seconds\n",
      "Time taken:  7.86  seconds\n",
      "Time taken:  7.78  seconds\n",
      "Time taken:  7.79  seconds\n",
      "Time taken:  7.83  seconds\n",
      "Time taken:  7.79  seconds\n",
      "Time taken:  8.17  seconds\n",
      "Time taken:  8.07  seconds\n",
      "Time taken:  7.76  seconds\n",
      "Time taken:  7.77  seconds\n",
      "Time taken:  7.92  seconds\n",
      "Time taken:  7.78  seconds\n",
      "Time taken:  7.79  seconds\n",
      "Time taken:  9.84  seconds\n",
      "Time taken:  10.16  seconds\n",
      "Time taken:  9.47  seconds\n",
      "Time taken:  9.34  seconds\n",
      "Time taken:  9.37  seconds\n",
      "Time taken:  9.07  seconds\n",
      "Time taken:  8.94  seconds\n",
      "Time taken:  8.82  seconds\n",
      "Time taken:  9.86  seconds\n",
      "Time taken:  9.42  seconds\n",
      "Time taken:  8.26  seconds\n",
      "Time taken:  8.09  seconds\n",
      "Time taken:  9.37  seconds\n",
      "Time taken:  8.99  seconds\n",
      "Time taken:  8.95  seconds\n",
      "Time taken:  9.75  seconds\n",
      "Time taken:  9.76  seconds\n",
      "Time taken:  9.05  seconds\n",
      "Time taken:  9.1  seconds\n",
      "Time taken:  8.98  seconds\n",
      "Time taken:  9.07  seconds\n",
      "Time taken:  9.02  seconds\n",
      "Time taken:  8.99  seconds\n",
      "Time taken:  9.8  seconds\n",
      "Time taken:  9.2  seconds\n",
      "Time taken:  8.86  seconds\n",
      "Time taken:  9.29  seconds\n",
      "Time taken:  8.79  seconds\n",
      "Time taken:  8.23  seconds\n",
      "Time taken:  9.06  seconds\n",
      "Time taken:  10.26  seconds\n",
      "Time taken:  9.17  seconds\n",
      "Time taken:  8.88  seconds\n",
      "Time taken:  9.08  seconds\n",
      "Time taken:  8.98  seconds\n",
      "Time taken:  9.06  seconds\n",
      "Time taken:  9.03  seconds\n",
      "Time taken:  10.03  seconds\n",
      "Time taken:  9.43  seconds\n",
      "Time taken:  9.16  seconds\n",
      "Time taken:  9.1  seconds\n",
      "Time taken:  9.16  seconds\n",
      "Time taken:  9.19  seconds\n",
      "Time taken:  9.07  seconds\n",
      "Time taken:  9.91  seconds\n",
      "Time taken:  9.11  seconds\n",
      "Time taken:  9.13  seconds\n",
      "Time taken:  9.21  seconds\n",
      "Time taken:  9.06  seconds\n",
      "Time taken:  9.01  seconds\n",
      "Time taken:  9.0  seconds\n",
      "Time taken:  9.73  seconds\n",
      "Time taken:  9.25  seconds\n",
      "Time taken:  9.08  seconds\n",
      "Time taken:  8.55  seconds\n",
      "Time taken:  8.09  seconds\n",
      "Time taken:  8.94  seconds\n",
      "Time taken:  9.01  seconds\n",
      "Time taken:  9.6  seconds\n",
      "Time taken:  9.73  seconds\n",
      "Time taken:  9.09  seconds\n",
      "Time taken:  9.03  seconds\n",
      "Time taken:  8.92  seconds\n",
      "Time taken:  9.04  seconds\n",
      "Time taken:  9.05  seconds\n",
      "Time taken:  9.07  seconds\n",
      "Time taken:  9.81  seconds\n",
      "Time taken:  9.29  seconds\n",
      "Time taken:  8.15  seconds\n",
      "Time taken:  8.03  seconds\n",
      "Time taken:  8.79  seconds\n",
      "Time taken:  9.07  seconds\n",
      "Time taken:  9.03  seconds\n",
      "Time taken:  10.13  seconds\n",
      "Time taken:  8.59  seconds\n",
      "Time taken:  8.28  seconds\n",
      "Time taken:  8.54  seconds\n",
      "Time taken:  9.94  seconds\n",
      "Time taken:  9.84  seconds\n",
      "Time taken:  9.47  seconds\n",
      "Time taken:  10.04  seconds\n",
      "Time taken:  9.1  seconds\n",
      "Time taken:  8.96  seconds\n",
      "Time taken:  9.04  seconds\n",
      "Time taken:  9.11  seconds\n",
      "Time taken:  9.11  seconds\n",
      "Time taken:  8.03  seconds\n",
      "Time taken:  8.26  seconds\n",
      "Time taken:  8.42  seconds\n",
      "Time taken:  9.57  seconds\n",
      "Time taken:  8.34  seconds\n",
      "Time taken:  8.41  seconds\n",
      "Time taken:  9.62  seconds\n",
      "Time taken:  9.16  seconds\n",
      "Time taken:  9.09  seconds\n",
      "Time taken:  9.72  seconds\n",
      "Time taken:  8.96  seconds\n",
      "Time taken:  8.93  seconds\n",
      "Time taken:  8.95  seconds\n",
      "Time taken:  8.94  seconds\n",
      "Time taken:  9.1  seconds\n",
      "Time taken:  9.53  seconds\n",
      "Time taken:  10.01  seconds\n",
      "Time taken:  9.25  seconds\n",
      "Time taken:  9.5  seconds\n",
      "Time taken:  9.03  seconds\n",
      "Time taken:  8.91  seconds\n",
      "Time taken:  9.03  seconds\n",
      "Time taken:  9.12  seconds\n",
      "Time taken:  9.76  seconds\n",
      "Time taken:  9.13  seconds\n",
      "[0.070279423414007947, 0.065865643593728582, 0.063124340070584234, 0.061524171994701296, 0.059708227547169548, 0.059456538815202145, 0.061048550971151402, 0.062985480205170391, 0.064376365143225339, 0.066012522201176482, 0.069902073734984999, 0.071592820084510886, 0.073517014234894401, 0.073517014234894401, 0.073517014234894401, 0.073517014234894401, 0.073517014234894401, 0.073517014234894401, 0.073517014234894401, 0.073517014234894401, 0.073517014234894401, 0.073517014234894401, 0.073517014234894401, 0.073517014234894401, 0.073517014234894401]\n"
     ]
    }
   ],
   "source": [
    "#list to store rmse for each value of K \n",
    "k_vals=[]\n",
    "#find rmse for K in the range 1-25 using 10 old cross validation\n",
    "for i in range(1,26):\n",
    "    avg_rmse=k_fold_cross_val(10,bdata_train2,['CRIM','ZN','RM','AGE','DIS','TAX'],2,knn,i)\n",
    "    k_vals.append(avg_rmse)\n",
    "print(k_vals)"
   ]
  },
  {
   "cell_type": "markdown",
   "metadata": {},
   "source": [
    "My observation is that as we increase the k value from 1, the RMSE value starts dropping and reaches the minumum value at K=5. Then the RMSE increases steadily until k=12 and becomes almost constant post that.\n",
    "\n",
    "A reasonable choice of K for this model would be 5 as it gives us the lowest RMSE."
   ]
  },
  {
   "cell_type": "code",
   "execution_count": 210,
   "metadata": {},
   "outputs": [
    {
     "data": {
      "image/png": "[encoded data removed]",
      "text/plain": [
       "<matplotlib.figure.Figure at 0x29ea5fb40f0>"
      ]
     },
     "metadata": {},
     "output_type": "display_data"
    }
   ],
   "source": [
    "#set figure size\n",
    "plt.figure(figsize=(16,9))\n",
    "ax = plt.subplot(111)\n",
    "#plot graph of RMSE v/s K value\n",
    "ax.spines['right'].set_visible(False)\n",
    "ax.spines['top'].set_visible(False)\n",
    "plt.title('RMSE v/s K-value')\n",
    "plt.plot(k_vals)\n",
    "plt.xlabel('K Value')\n",
    "plt.ylabel('RMSE')\n",
    "plt.show()"
   ]
  },
  {
   "cell_type": "code",
   "execution_count": null,
   "metadata": {
    "collapsed": true
   },
   "outputs": [],
   "source": []
  }
 ],
 "metadata": {
  "kernelspec": {
   "display_name": "Python 3",
   "language": "python",
   "name": "python3"
  },
  "language_info": {
   "codemirror_mode": {
    "name": "ipython",
    "version": 3
   },
   "file_extension": ".py",
   "mimetype": "text/x-python",
   "name": "python",
   "nbconvert_exporter": "python",
   "pygments_lexer": "ipython3",
   "version": "3.6.3"
  }
 },
 "nbformat": 4,
 "nbformat_minor": 1
}
